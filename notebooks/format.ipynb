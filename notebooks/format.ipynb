{
 "cells": [
  {
   "cell_type": "code",
   "execution_count": 4,
   "metadata": {},
   "outputs": [],
   "source": [
    "import polars as pl"
   ]
  },
  {
   "cell_type": "code",
   "execution_count": 5,
   "metadata": {},
   "outputs": [],
   "source": [
    "path2data = \"../data/human_HG38/NPC\""
   ]
  },
  {
   "cell_type": "code",
   "execution_count": 6,
   "metadata": {},
   "outputs": [
    {
     "data": {
      "text/html": [
       "<div><style>\n",
       ".dataframe > thead > tr > th,\n",
       ".dataframe > tbody > tr > td {\n",
       "  text-align: right;\n",
       "}\n",
       "</style>\n",
       "<small>shape: (5, 22)</small><table border=\"1\" class=\"dataframe\"><thead><tr><th>column_1</th><th>column_2</th><th>column_3</th><th>column_4</th><th>column_5</th><th>column_6</th><th>column_7</th><th>column_8</th><th>column_9</th><th>column_10</th><th>column_11</th><th>column_12</th><th>column_13</th><th>column_14</th><th>column_15</th><th>column_16</th><th>column_17</th><th>column_18</th><th>column_19</th><th>column_20</th><th>column_21</th><th>column_22</th></tr><tr><td>str</td><td>i64</td><td>i64</td><td>str</td><td>str</td><td>str</td><td>str</td><td>str</td><td>str</td><td>str</td><td>str</td><td>str</td><td>str</td><td>str</td><td>str</td><td>str</td><td>str</td><td>str</td><td>str</td><td>str</td><td>i64</td><td>str</td></tr></thead><tbody><tr><td>&quot;chr1&quot;</td><td>9899</td><td>10239</td><td>&quot;SRX5716454&quot;</td><td>&quot;SOX3 &quot;</td><td>&quot;Title=GSM37320…</td><td>&quot; Homo sapiens&quot;</td><td>&quot; ChIP-Seq&quot;</td><td>&quot;Cell group=Neu…</td><td>&quot;&lt;br&gt;source_nam…</td><td>&quot;genotype/varia…</td><td>&quot;sirna=none&quot;</td><td>&quot;lentiviral exp…</td><td>&quot;antibody sourc…</td><td>null</td><td>&quot;205&quot;</td><td>&quot;.&quot;</td><td>&quot;9899&quot;</td><td>&quot;10239&quot;</td><td>&quot;0&quot;</td><td>209</td><td>&quot;255&quot;</td></tr><tr><td>&quot;chr1&quot;</td><td>9923</td><td>10228</td><td>&quot;SRX5075182&quot;</td><td>&quot;SMARCA2 &quot;</td><td>&quot;Title=GSM34946…</td><td>&quot; Homo sapiens&quot;</td><td>&quot; ChIP-Seq&quot;</td><td>&quot;Cell group=Neu…</td><td>&quot;&lt;br&gt;source_nam…</td><td>&quot;genotype/varia…</td><td>&quot;treatment=none…</td><td>&quot;shRNA=none&quot;</td><td>&quot;antibody sourc…</td><td>null</td><td>&quot;251&quot;</td><td>&quot;.&quot;</td><td>&quot;9923&quot;</td><td>&quot;10228&quot;</td><td>&quot;0&quot;</td><td>255</td><td>&quot;253&quot;</td></tr><tr><td>&quot;chr1&quot;</td><td>9990</td><td>10437</td><td>&quot;SRX20140894&quot;</td><td>&quot;INTS13 &quot;</td><td>&quot;Title=GSM72466…</td><td>&quot; WT&quot;</td><td>&quot; INTS13&quot;</td><td>&quot; biol rep1&quot;</td><td>&quot; Homo sapiens&quot;</td><td>&quot; ChIP-Seq&quot;</td><td>&quot;Cell group=Neu…</td><td>&quot;&lt;br&gt;source_nam…</td><td>&quot;cell line=NPC&quot;</td><td>&quot;cell type=neur…</td><td>&quot;genotype=wt&quot;</td><td>&quot;treatment=No t…</td><td>&quot;chip antibody=…</td><td>&quot;geo_loc_name=m…</td><td>&quot;collection_dat…</td><td>null</td><td>&quot;465&quot;</td></tr><tr><td>&quot;chr1&quot;</td><td>10000</td><td>10254</td><td>&quot;SRX5020214&quot;</td><td>&quot;SMARCA2 &quot;</td><td>&quot;Title=GSM34767…</td><td>&quot; Homo sapiens&quot;</td><td>&quot; ChIP-Seq&quot;</td><td>&quot;Cell group=Neu…</td><td>&quot;&lt;br&gt;source_nam…</td><td>&quot;genotype/varia…</td><td>&quot;antibody=SMARC…</td><td>null</td><td>&quot;180&quot;</td><td>&quot;.&quot;</td><td>&quot;10000&quot;</td><td>&quot;10254&quot;</td><td>&quot;0&quot;</td><td>&quot;183&quot;</td><td>&quot;255&quot;</td><td>null</td><td>null</td></tr><tr><td>&quot;chr1&quot;</td><td>10001</td><td>10206</td><td>&quot;SRX5075174&quot;</td><td>&quot;SMARCA4 &quot;</td><td>&quot;Title=GSM34946…</td><td>&quot; Homo sapiens&quot;</td><td>&quot; ChIP-Seq&quot;</td><td>&quot;Cell group=Neu…</td><td>&quot;&lt;br&gt;source_nam…</td><td>&quot;genotype/varia…</td><td>&quot;treatment=none…</td><td>&quot;shRNA=none&quot;</td><td>&quot;antibody sourc…</td><td>null</td><td>&quot;171&quot;</td><td>&quot;.&quot;</td><td>&quot;10001&quot;</td><td>&quot;10206&quot;</td><td>&quot;0&quot;</td><td>174</td><td>&quot;255&quot;</td></tr></tbody></table></div>"
      ],
      "text/plain": [
       "shape: (5, 22)\n",
       "┌──────────┬──────────┬──────────┬────────────┬───┬────────────┬───────────┬───────────┬───────────┐\n",
       "│ column_1 ┆ column_2 ┆ column_3 ┆ column_4   ┆ … ┆ column_19  ┆ column_20 ┆ column_21 ┆ column_22 │\n",
       "│ ---      ┆ ---      ┆ ---      ┆ ---        ┆   ┆ ---        ┆ ---       ┆ ---       ┆ ---       │\n",
       "│ str      ┆ i64      ┆ i64      ┆ str        ┆   ┆ str        ┆ str       ┆ i64       ┆ str       │\n",
       "╞══════════╪══════════╪══════════╪════════════╪═══╪════════════╪═══════════╪═══════════╪═══════════╡\n",
       "│ chr1     ┆ 9899     ┆ 10239    ┆ SRX5716454 ┆ … ┆ 10239      ┆ 0         ┆ 209       ┆ 255       │\n",
       "│ chr1     ┆ 9923     ┆ 10228    ┆ SRX5075182 ┆ … ┆ 10228      ┆ 0         ┆ 255       ┆ 253       │\n",
       "│ chr1     ┆ 9990     ┆ 10437    ┆ SRX2014089 ┆ … ┆ geo_loc_na ┆ collectio ┆ null      ┆ 465       │\n",
       "│          ┆          ┆          ┆ 4          ┆   ┆ me=missing ┆ n_date=mi ┆           ┆           │\n",
       "│          ┆          ┆          ┆            ┆   ┆            ┆ ssing     ┆           ┆           │\n",
       "│ chr1     ┆ 10000    ┆ 10254    ┆ SRX5020214 ┆ … ┆ 183        ┆ 255       ┆ null      ┆ null      │\n",
       "│ chr1     ┆ 10001    ┆ 10206    ┆ SRX5075174 ┆ … ┆ 10206      ┆ 0         ┆ 174       ┆ 255       │\n",
       "└──────────┴──────────┴──────────┴────────────┴───┴────────────┴───────────┴───────────┴───────────┘"
      ]
     },
     "execution_count": 6,
     "metadata": {},
     "output_type": "execute_result"
    }
   ],
   "source": [
    "npc = pl.read_csv(f\"{path2data}/NPC_pp.csv\",\n",
    "                  has_header=False,\n",
    "                  separator=\"\\t\")\n",
    "npc.head()"
   ]
  },
  {
   "cell_type": "code",
   "execution_count": 7,
   "metadata": {},
   "outputs": [
    {
     "data": {
      "text/html": [
       "<div><style>\n",
       ".dataframe > thead > tr > th,\n",
       ".dataframe > tbody > tr > td {\n",
       "  text-align: right;\n",
       "}\n",
       "</style>\n",
       "<small>shape: (5, 5)</small><table border=\"1\" class=\"dataframe\"><thead><tr><th>column_1</th><th>column_2</th><th>column_3</th><th>column_4</th><th>column_5</th></tr><tr><td>str</td><td>i64</td><td>i64</td><td>str</td><td>str</td></tr></thead><tbody><tr><td>&quot;chr1&quot;</td><td>9899</td><td>10239</td><td>&quot;SRX5716454&quot;</td><td>&quot;SOX3 &quot;</td></tr><tr><td>&quot;chr1&quot;</td><td>9923</td><td>10228</td><td>&quot;SRX5075182&quot;</td><td>&quot;SMARCA2 &quot;</td></tr><tr><td>&quot;chr1&quot;</td><td>9990</td><td>10437</td><td>&quot;SRX20140894&quot;</td><td>&quot;INTS13 &quot;</td></tr><tr><td>&quot;chr1&quot;</td><td>10000</td><td>10254</td><td>&quot;SRX5020214&quot;</td><td>&quot;SMARCA2 &quot;</td></tr><tr><td>&quot;chr1&quot;</td><td>10001</td><td>10206</td><td>&quot;SRX5075174&quot;</td><td>&quot;SMARCA4 &quot;</td></tr></tbody></table></div>"
      ],
      "text/plain": [
       "shape: (5, 5)\n",
       "┌──────────┬──────────┬──────────┬─────────────┬──────────┐\n",
       "│ column_1 ┆ column_2 ┆ column_3 ┆ column_4    ┆ column_5 │\n",
       "│ ---      ┆ ---      ┆ ---      ┆ ---         ┆ ---      │\n",
       "│ str      ┆ i64      ┆ i64      ┆ str         ┆ str      │\n",
       "╞══════════╪══════════╪══════════╪═════════════╪══════════╡\n",
       "│ chr1     ┆ 9899     ┆ 10239    ┆ SRX5716454  ┆ SOX3     │\n",
       "│ chr1     ┆ 9923     ┆ 10228    ┆ SRX5075182  ┆ SMARCA2  │\n",
       "│ chr1     ┆ 9990     ┆ 10437    ┆ SRX20140894 ┆ INTS13   │\n",
       "│ chr1     ┆ 10000    ┆ 10254    ┆ SRX5020214  ┆ SMARCA2  │\n",
       "│ chr1     ┆ 10001    ┆ 10206    ┆ SRX5075174  ┆ SMARCA4  │\n",
       "└──────────┴──────────┴──────────┴─────────────┴──────────┘"
      ]
     },
     "execution_count": 7,
     "metadata": {},
     "output_type": "execute_result"
    }
   ],
   "source": [
    "npc = npc.select([\"column_1\",\"column_2\",\"column_3\",\"column_4\",\"column_5\"])\n",
    "npc.head()"
   ]
  },
  {
   "cell_type": "code",
   "execution_count": 8,
   "metadata": {},
   "outputs": [
    {
     "data": {
      "text/html": [
       "<div><style>\n",
       ".dataframe > thead > tr > th,\n",
       ".dataframe > tbody > tr > td {\n",
       "  text-align: right;\n",
       "}\n",
       "</style>\n",
       "<small>shape: (10, 5)</small><table border=\"1\" class=\"dataframe\"><thead><tr><th>Chromosome</th><th>Start</th><th>End</th><th>ID</th><th>Name</th></tr><tr><td>str</td><td>i64</td><td>i64</td><td>str</td><td>str</td></tr></thead><tbody><tr><td>&quot;chr1&quot;</td><td>9899</td><td>10239</td><td>&quot;SRX5716454&quot;</td><td>&quot;SOX3 &quot;</td></tr><tr><td>&quot;chr1&quot;</td><td>9923</td><td>10228</td><td>&quot;SRX5075182&quot;</td><td>&quot;SMARCA2 &quot;</td></tr><tr><td>&quot;chr1&quot;</td><td>9990</td><td>10437</td><td>&quot;SRX20140894&quot;</td><td>&quot;INTS13 &quot;</td></tr><tr><td>&quot;chr1&quot;</td><td>10000</td><td>10254</td><td>&quot;SRX5020214&quot;</td><td>&quot;SMARCA2 &quot;</td></tr><tr><td>&quot;chr1&quot;</td><td>10001</td><td>10206</td><td>&quot;SRX5075174&quot;</td><td>&quot;SMARCA4 &quot;</td></tr><tr><td>&quot;chr1&quot;</td><td>10002</td><td>10295</td><td>&quot;SRX5716460&quot;</td><td>&quot;Epitope tags &quot;</td></tr><tr><td>&quot;chr1&quot;</td><td>10003</td><td>10428</td><td>&quot;SRX20140880&quot;</td><td>&quot;CPSF3L &quot;</td></tr><tr><td>&quot;chr1&quot;</td><td>10004</td><td>10200</td><td>&quot;SRX5075176&quot;</td><td>&quot;SMARCA4 &quot;</td></tr><tr><td>&quot;chr1&quot;</td><td>10004</td><td>10399</td><td>&quot;SRX20140860&quot;</td><td>&quot;SOX2 &quot;</td></tr><tr><td>&quot;chr1&quot;</td><td>10005</td><td>10270</td><td>&quot;SRX20140892&quot;</td><td>&quot;SOX2 &quot;</td></tr></tbody></table></div>"
      ],
      "text/plain": [
       "shape: (10, 5)\n",
       "┌────────────┬───────┬───────┬─────────────┬──────────┐\n",
       "│ Chromosome ┆ Start ┆ End   ┆ ID          ┆ Name     │\n",
       "│ ---        ┆ ---   ┆ ---   ┆ ---         ┆ ---      │\n",
       "│ str        ┆ i64   ┆ i64   ┆ str         ┆ str      │\n",
       "╞════════════╪═══════╪═══════╪═════════════╪══════════╡\n",
       "│ chr1       ┆ 9899  ┆ 10239 ┆ SRX5716454  ┆ SOX3     │\n",
       "│ chr1       ┆ 9923  ┆ 10228 ┆ SRX5075182  ┆ SMARCA2  │\n",
       "│ chr1       ┆ 9990  ┆ 10437 ┆ SRX20140894 ┆ INTS13   │\n",
       "│ chr1       ┆ 10000 ┆ 10254 ┆ SRX5020214  ┆ SMARCA2  │\n",
       "│ …          ┆ …     ┆ …     ┆ …           ┆ …        │\n",
       "│ chr1       ┆ 10003 ┆ 10428 ┆ SRX20140880 ┆ CPSF3L   │\n",
       "│ chr1       ┆ 10004 ┆ 10200 ┆ SRX5075176  ┆ SMARCA4  │\n",
       "│ chr1       ┆ 10004 ┆ 10399 ┆ SRX20140860 ┆ SOX2     │\n",
       "│ chr1       ┆ 10005 ┆ 10270 ┆ SRX20140892 ┆ SOX2     │\n",
       "└────────────┴───────┴───────┴─────────────┴──────────┘"
      ]
     },
     "execution_count": 8,
     "metadata": {},
     "output_type": "execute_result"
    }
   ],
   "source": [
    "npc = npc.rename({\n",
    "    \"column_1\":\"Chromosome\",\n",
    "    \"column_2\":\"Start\",\n",
    "    \"column_3\":\"End\",\n",
    "    \"column_4\":\"ID\",\n",
    "    \"column_5\":\"Name\",\n",
    "})\n",
    "npc.head(10)"
   ]
  },
  {
   "cell_type": "code",
   "execution_count": 9,
   "metadata": {},
   "outputs": [],
   "source": [
    "npc.write_csv(f\"{path2data}/npc_processed.csv\")"
   ]
  },
  {
   "cell_type": "code",
   "execution_count": 10,
   "metadata": {},
   "outputs": [
    {
     "data": {
      "text/html": [
       "<div><style>\n",
       ".dataframe > thead > tr > th,\n",
       ".dataframe > tbody > tr > td {\n",
       "  text-align: right;\n",
       "}\n",
       "</style>\n",
       "<small>shape: (10, 1)</small><table border=\"1\" class=\"dataframe\"><thead><tr><th>Chromosome</th></tr><tr><td>str</td></tr></thead><tbody><tr><td>&quot;chr22_KI270736…</td></tr><tr><td>&quot;chr9_KI270719v…</td></tr><tr><td>&quot;chrUn_KI270418…</td></tr><tr><td>&quot;chrUn_GL000216…</td></tr><tr><td>&quot;chrUn_KI270581…</td></tr><tr><td>&quot;chrUn_KI270522…</td></tr><tr><td>&quot;chrUn_KI270519…</td></tr><tr><td>&quot;chrM&quot;</td></tr><tr><td>&quot;chrUn_KI270465…</td></tr><tr><td>&quot;chrUn_GL000224…</td></tr></tbody></table></div>"
      ],
      "text/plain": [
       "shape: (10, 1)\n",
       "┌─────────────────────────┐\n",
       "│ Chromosome              │\n",
       "│ ---                     │\n",
       "│ str                     │\n",
       "╞═════════════════════════╡\n",
       "│ chr22_KI270736v1_random │\n",
       "│ chr9_KI270719v1_random  │\n",
       "│ chrUn_KI270418v1        │\n",
       "│ chrUn_GL000216v2        │\n",
       "│ …                       │\n",
       "│ chrUn_KI270519v1        │\n",
       "│ chrM                    │\n",
       "│ chrUn_KI270465v1        │\n",
       "│ chrUn_GL000224v1        │\n",
       "└─────────────────────────┘"
      ]
     },
     "execution_count": 10,
     "metadata": {},
     "output_type": "execute_result"
    }
   ],
   "source": [
    "npc.select(\"Chromosome\").unique().head(10)"
   ]
  },
  {
   "cell_type": "code",
   "execution_count": 11,
   "metadata": {},
   "outputs": [
    {
     "data": {
      "text/plain": [
       "['chr1',\n",
       " 'chr2',\n",
       " 'chr3',\n",
       " 'chr4',\n",
       " 'chr5',\n",
       " 'chr6',\n",
       " 'chr7',\n",
       " 'chr8',\n",
       " 'chr9',\n",
       " 'chr10',\n",
       " 'chr11',\n",
       " 'chr12',\n",
       " 'chr13',\n",
       " 'chr14',\n",
       " 'chr15',\n",
       " 'chr16',\n",
       " 'chr17',\n",
       " 'chr18',\n",
       " 'chr19',\n",
       " 'chr20',\n",
       " 'chr21',\n",
       " 'chr22']"
      ]
     },
     "execution_count": 11,
     "metadata": {},
     "output_type": "execute_result"
    }
   ],
   "source": [
    "chromosomes = [f\"chr{n+1}\" for n in range(0,22)]\n",
    "chromosomes"
   ]
  },
  {
   "cell_type": "code",
   "execution_count": 12,
   "metadata": {},
   "outputs": [
    {
     "data": {
      "text/html": [
       "<div><style>\n",
       ".dataframe > thead > tr > th,\n",
       ".dataframe > tbody > tr > td {\n",
       "  text-align: right;\n",
       "}\n",
       "</style>\n",
       "<small>shape: (22, 1)</small><table border=\"1\" class=\"dataframe\"><thead><tr><th>Chromosome</th></tr><tr><td>str</td></tr></thead><tbody><tr><td>&quot;chr8&quot;</td></tr><tr><td>&quot;chr21&quot;</td></tr><tr><td>&quot;chr12&quot;</td></tr><tr><td>&quot;chr9&quot;</td></tr><tr><td>&quot;chr14&quot;</td></tr><tr><td>&quot;chr7&quot;</td></tr><tr><td>&quot;chr15&quot;</td></tr><tr><td>&quot;chr13&quot;</td></tr><tr><td>&quot;chr4&quot;</td></tr><tr><td>&quot;chr19&quot;</td></tr><tr><td>&quot;chr18&quot;</td></tr><tr><td>&quot;chr5&quot;</td></tr><tr><td>&quot;chr22&quot;</td></tr><tr><td>&quot;chr10&quot;</td></tr><tr><td>&quot;chr20&quot;</td></tr><tr><td>&quot;chr2&quot;</td></tr><tr><td>&quot;chr16&quot;</td></tr><tr><td>&quot;chr17&quot;</td></tr><tr><td>&quot;chr6&quot;</td></tr><tr><td>&quot;chr11&quot;</td></tr><tr><td>&quot;chr3&quot;</td></tr><tr><td>&quot;chr1&quot;</td></tr></tbody></table></div>"
      ],
      "text/plain": [
       "shape: (22, 1)\n",
       "┌────────────┐\n",
       "│ Chromosome │\n",
       "│ ---        │\n",
       "│ str        │\n",
       "╞════════════╡\n",
       "│ chr8       │\n",
       "│ chr21      │\n",
       "│ chr12      │\n",
       "│ chr9       │\n",
       "│ …          │\n",
       "│ chr6       │\n",
       "│ chr11      │\n",
       "│ chr3       │\n",
       "│ chr1       │\n",
       "└────────────┘"
      ]
     },
     "execution_count": 12,
     "metadata": {},
     "output_type": "execute_result"
    }
   ],
   "source": [
    "npc = npc.filter(pl.col(\"Chromosome\").is_in(chromosomes))\n",
    "npc.select(\"Chromosome\").unique()"
   ]
  },
  {
   "cell_type": "code",
   "execution_count": 13,
   "metadata": {},
   "outputs": [
    {
     "data": {
      "text/plain": [
       "<bound method DataFrame.__len__ of shape: (83_008, 5)\n",
       "┌────────────┬───────────┬───────────┬─────────────┬──────────┐\n",
       "│ Chromosome ┆ Start     ┆ End       ┆ ID          ┆ Name     │\n",
       "│ ---        ┆ ---       ┆ ---       ┆ ---         ┆ ---      │\n",
       "│ str        ┆ i64       ┆ i64       ┆ str         ┆ str      │\n",
       "╞════════════╪═══════════╪═══════════╪═════════════╪══════════╡\n",
       "│ chr1       ┆ 9899      ┆ 10239     ┆ SRX5716454  ┆ SOX3     │\n",
       "│ chr1       ┆ 9923      ┆ 10228     ┆ SRX5075182  ┆ SMARCA2  │\n",
       "│ chr1       ┆ 9990      ┆ 10437     ┆ SRX20140894 ┆ INTS13   │\n",
       "│ chr1       ┆ 10000     ┆ 10254     ┆ SRX5020214  ┆ SMARCA2  │\n",
       "│ …          ┆ …         ┆ …         ┆ …           ┆ …        │\n",
       "│ chr1       ┆ 248945869 ┆ 248946240 ┆ SRX20140868 ┆ INTS10   │\n",
       "│ chr1       ┆ 248945979 ┆ 248946068 ┆ SRX1424891  ┆ POU3F2   │\n",
       "│ chr1       ┆ 248946285 ┆ 248946392 ┆ SRX1424893  ┆ POU3F2   │\n",
       "│ chr1       ┆ 248946356 ┆ 248946397 ┆ SRX1424894  ┆ POU3F2   │\n",
       "└────────────┴───────────┴───────────┴─────────────┴──────────┘>"
      ]
     },
     "execution_count": 13,
     "metadata": {},
     "output_type": "execute_result"
    }
   ],
   "source": [
    "chr1 = npc.filter(pl.col(\"Chromosome\")==\"chr1\")\n",
    "chr1.__len__"
   ]
  }
 ],
 "metadata": {
  "kernelspec": {
   "display_name": "Python 3",
   "language": "python",
   "name": "python3"
  },
  "language_info": {
   "codemirror_mode": {
    "name": "ipython",
    "version": 3
   },
   "file_extension": ".py",
   "mimetype": "text/x-python",
   "name": "python",
   "nbconvert_exporter": "python",
   "pygments_lexer": "ipython3",
   "version": "3.11.4"
  },
  "orig_nbformat": 4
 },
 "nbformat": 4,
 "nbformat_minor": 2
}
