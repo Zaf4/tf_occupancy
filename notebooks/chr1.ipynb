{
 "cells": [
  {
   "cell_type": "code",
   "execution_count": 1,
   "metadata": {},
   "outputs": [
    {
     "data": {
      "text/html": [
       "\n",
       "            <div id=\"FzeSa9\"></div>\n",
       "            <script type=\"text/javascript\" data-lets-plot-script=\"library\">\n",
       "                if(!window.letsPlotCallQueue) {\n",
       "                    window.letsPlotCallQueue = [];\n",
       "                }; \n",
       "                window.letsPlotCall = function(f) {\n",
       "                    window.letsPlotCallQueue.push(f);\n",
       "                };\n",
       "                (function() {\n",
       "                    var script = document.createElement(\"script\");\n",
       "                    script.type = \"text/javascript\";\n",
       "                    script.src = \"https://cdn.jsdelivr.net/gh/JetBrains/lets-plot@v4.0.0/js-package/distr/lets-plot.min.js\";\n",
       "                    script.onload = function() {\n",
       "                        window.letsPlotCall = function(f) {f();};\n",
       "                        window.letsPlotCallQueue.forEach(function(f) {f();});\n",
       "                        window.letsPlotCallQueue = [];\n",
       "                        \n",
       "                    };\n",
       "                    script.onerror = function(event) {\n",
       "                        window.letsPlotCall = function(f) {};    // noop\n",
       "                        window.letsPlotCallQueue = [];\n",
       "                        var div = document.createElement(\"div\");\n",
       "                        div.style.color = 'darkred';\n",
       "                        div.textContent = 'Error loading Lets-Plot JS';\n",
       "                        document.getElementById(\"FzeSa9\").appendChild(div);\n",
       "                    };\n",
       "                    var e = document.getElementById(\"FzeSa9\");\n",
       "                    e.appendChild(script);\n",
       "                })()\n",
       "            </script>\n",
       "            "
      ]
     },
     "metadata": {},
     "output_type": "display_data"
    }
   ],
   "source": [
    "import polars as pl\n",
    "from lets_plot import *\n",
    "LetsPlot.setup_html()"
   ]
  },
  {
   "cell_type": "code",
   "execution_count": 2,
   "metadata": {},
   "outputs": [],
   "source": [
    "path2data = \"../data/human_HG38/NPC\""
   ]
  },
  {
   "cell_type": "code",
   "execution_count": 3,
   "metadata": {},
   "outputs": [],
   "source": [
    "chr1 = pl.read_csv(f\"{path2data}/chr1.csv\")"
   ]
  },
  {
   "cell_type": "markdown",
   "metadata": {},
   "source": [
    "How many binding sites are there for each TF on Chromosome 1?"
   ]
  },
  {
   "cell_type": "code",
   "execution_count": 4,
   "metadata": {},
   "outputs": [
    {
     "data": {
      "text/html": [
       "<div><style>\n",
       ".dataframe > thead > tr > th,\n",
       ".dataframe > tbody > tr > td {\n",
       "  text-align: right;\n",
       "}\n",
       "</style>\n",
       "<small>shape: (12, 2)</small><table border=\"1\" class=\"dataframe\"><thead><tr><th>Name</th><th>count</th></tr><tr><td>str</td><td>u32</td></tr></thead><tbody><tr><td>&quot;SOX3&quot;</td><td>319</td></tr><tr><td>&quot;SMARCA4&quot;</td><td>45821</td></tr><tr><td>&quot;INTS13&quot;</td><td>3389</td></tr><tr><td>&quot;GFP&quot;</td><td>193</td></tr><tr><td>&quot;CPSF3L&quot;</td><td>1593</td></tr><tr><td>&quot;SOX2&quot;</td><td>1188</td></tr><tr><td>&quot;FOSL2&quot;</td><td>7904</td></tr><tr><td>&quot;POU3F2&quot;</td><td>561</td></tr><tr><td>&quot;Epitope tags&quot;</td><td>280</td></tr><tr><td>&quot;SMARCA2&quot;</td><td>5147</td></tr><tr><td>&quot;CTCF&quot;</td><td>13665</td></tr><tr><td>&quot;INTS10&quot;</td><td>2948</td></tr></tbody></table></div>"
      ],
      "text/plain": [
       "shape: (12, 2)\n",
       "┌──────────────┬───────┐\n",
       "│ Name         ┆ count │\n",
       "│ ---          ┆ ---   │\n",
       "│ str          ┆ u32   │\n",
       "╞══════════════╪═══════╡\n",
       "│ SOX3         ┆ 319   │\n",
       "│ SMARCA4      ┆ 45821 │\n",
       "│ INTS13       ┆ 3389  │\n",
       "│ GFP          ┆ 193   │\n",
       "│ …            ┆ …     │\n",
       "│ Epitope tags ┆ 280   │\n",
       "│ SMARCA2      ┆ 5147  │\n",
       "│ CTCF         ┆ 13665 │\n",
       "│ INTS10       ┆ 2948  │\n",
       "└──────────────┴───────┘"
      ]
     },
     "execution_count": 4,
     "metadata": {},
     "output_type": "execute_result"
    }
   ],
   "source": [
    "chr1.groupby(\"Name\").count()"
   ]
  },
  {
   "cell_type": "markdown",
   "metadata": {},
   "source": [
    "Taking SOX3 for further testing"
   ]
  },
  {
   "cell_type": "code",
   "execution_count": 5,
   "metadata": {},
   "outputs": [],
   "source": [
    "chr1_sox3 = chr1.filter(pl.col(\"Name\")==\"SOX3\")"
   ]
  },
  {
   "cell_type": "code",
   "execution_count": 7,
   "metadata": {},
   "outputs": [
    {
     "data": {
      "text/html": [
       "<div><style>\n",
       ".dataframe > thead > tr > th,\n",
       ".dataframe > tbody > tr > td {\n",
       "  text-align: right;\n",
       "}\n",
       "</style>\n",
       "<small>shape: (1, 6)</small><table border=\"1\" class=\"dataframe\"><thead><tr><th>Chromosome</th><th>Start</th><th>End</th><th>ID</th><th>Name</th><th>Range</th></tr><tr><td>str</td><td>i64</td><td>i64</td><td>str</td><td>str</td><td>i64</td></tr></thead><tbody><tr><td>&quot;chr1&quot;</td><td>9899</td><td>10239</td><td>&quot;SRX5716454&quot;</td><td>&quot;SOX3&quot;</td><td>205</td></tr></tbody></table></div>"
      ],
      "text/plain": [
       "shape: (1, 6)\n",
       "┌────────────┬───────┬───────┬────────────┬──────┬───────┐\n",
       "│ Chromosome ┆ Start ┆ End   ┆ ID         ┆ Name ┆ Range │\n",
       "│ ---        ┆ ---   ┆ ---   ┆ ---        ┆ ---  ┆ ---   │\n",
       "│ str        ┆ i64   ┆ i64   ┆ str        ┆ str  ┆ i64   │\n",
       "╞════════════╪═══════╪═══════╪════════════╪══════╪═══════╡\n",
       "│ chr1       ┆ 9899  ┆ 10239 ┆ SRX5716454 ┆ SOX3 ┆ 205   │\n",
       "└────────────┴───────┴───────┴────────────┴──────┴───────┘"
      ]
     },
     "execution_count": 7,
     "metadata": {},
     "output_type": "execute_result"
    }
   ],
   "source": [
    "chr1_sox3.min()"
   ]
  }
 ],
 "metadata": {
  "kernelspec": {
   "display_name": "Python 3",
   "language": "python",
   "name": "python3"
  },
  "language_info": {
   "codemirror_mode": {
    "name": "ipython",
    "version": 3
   },
   "file_extension": ".py",
   "mimetype": "text/x-python",
   "name": "python",
   "nbconvert_exporter": "python",
   "pygments_lexer": "ipython3",
   "version": "3.11.4"
  }
 },
 "nbformat": 4,
 "nbformat_minor": 2
}
